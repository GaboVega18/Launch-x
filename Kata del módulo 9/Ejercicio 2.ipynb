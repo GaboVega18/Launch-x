{
 "cells": [
  {
   "cell_type": "markdown",
   "metadata": {},
   "source": [
    "Función con informe considerando la hora de lanzamiento, tiempo de vuelo, destino, tanque externo y tanque interno"
   ]
  },
  {
   "cell_type": "code",
   "execution_count": 8,
   "metadata": {},
   "outputs": [
    {
     "name": "stdout",
     "output_type": "stream",
     "text": [
      "\n",
      "    Destino: Moon\n",
      "    Tiempo total de viaje: 65 minutes\n",
      "    Total de combustible: 500000 gallons\n",
      "    \n"
     ]
    }
   ],
   "source": [
    "def Reporte_mision(Tiempo_Lanzamiento, Tiempo_vuelo, Destino, Tanque_externo, Tanque_principal):\n",
    "    return f\"\"\"\n",
    "    Destino: {Destino}\n",
    "    Tiempo total de viaje: {Tiempo_Lanzamiento + Tiempo_vuelo} minutes\n",
    "    Total de combustible: {Tanque_externo + Tanque_principal} gallons\n",
    "    \"\"\"\n",
    "\n",
    "print(Reporte_mision(14, 51, \"Moon\", 200000, 300000))"
   ]
  },
  {
   "cell_type": "markdown",
   "metadata": {},
   "source": [
    "Nueva función considerando lo anterior\n"
   ]
  },
  {
   "cell_type": "code",
   "execution_count": 9,
   "metadata": {},
   "outputs": [
    {
     "name": "stdout",
     "output_type": "stream",
     "text": [
      "\n",
      "    Destino Moon\n",
      "    Tiempo total de viaje: 76 minutos\n",
      "    Total de combustible: 500000\n",
      "    \n"
     ]
    }
   ],
   "source": [
    "def Reporte_mision(Destino, *minutos, **Reservas):\n",
    "    return f\"\"\"\n",
    "    Destino {Destino}\n",
    "    Tiempo total de viaje: {sum(minutos)} minutos\n",
    "    Total de combustible: {sum(Reservas.values())}\n",
    "    \"\"\"\n",
    "\n",
    "print(Reporte_mision(\"Moon\", 10, 15, 51, main=300000, external=200000))"
   ]
  },
  {
   "cell_type": "markdown",
   "metadata": {},
   "source": [
    "Se escribe la nueva función"
   ]
  },
  {
   "cell_type": "code",
   "execution_count": 10,
   "metadata": {},
   "outputs": [
    {
     "name": "stdout",
     "output_type": "stream",
     "text": [
      "\n",
      "    Mission to Moon\n",
      "    Total travel time: 74 minutes\n",
      "    Total fuel left: 500000\n",
      "    main tank --> 300000 gallons left\n",
      "external tank --> 200000 gallons left\n",
      "\n"
     ]
    }
   ],
   "source": [
    "def Reporte_mision(destino, *minutos, **Reservas):\n",
    "    main_report = f\"\"\"\n",
    "    Mission to {destino}\n",
    "    Total travel time: {sum(minutos)} minutes\n",
    "    Total fuel left: {sum(Reservas.values())}\n",
    "    \"\"\"\n",
    "    for tank_name, gallons in Reservas.items():\n",
    "        main_report += f\"{tank_name} tank --> {gallons} gallons left\\n\"\n",
    "    return main_report\n",
    "\n",
    "print(Reporte_mision(\"Moon\", 8, 11, 55, main=300000, external=200000))"
   ]
  }
 ],
 "metadata": {
  "interpreter": {
   "hash": "9e5321b19996bc09924839314e6e115f2dd863eaabb958a8c35039d4d33d7884"
  },
  "kernelspec": {
   "display_name": "Python 3.10.2 64-bit",
   "language": "python",
   "name": "python3"
  },
  "language_info": {
   "codemirror_mode": {
    "name": "ipython",
    "version": 3
   },
   "file_extension": ".py",
   "mimetype": "text/x-python",
   "name": "python",
   "nbconvert_exporter": "python",
   "pygments_lexer": "ipython3",
   "version": "3.10.2"
  },
  "orig_nbformat": 4
 },
 "nbformat": 4,
 "nbformat_minor": 2
}
