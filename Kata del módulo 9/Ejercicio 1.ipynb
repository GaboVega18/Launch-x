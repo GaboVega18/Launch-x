{
 "cells": [
  {
   "cell_type": "markdown",
   "metadata": {},
   "source": [
    "Función para leer 3 tanques de combustible y muestre el promedio"
   ]
  },
  {
   "cell_type": "code",
   "execution_count": 1,
   "metadata": {},
   "outputs": [],
   "source": [
    "def Reporte(Tanque_principal, Tanque_externo, Tanque_hidrogeno):\n",
    "    Promedio_total=(Tanque_principal+Tanque_externo+Tanque_hidrogeno)/3\n",
    "    return f\"\"\" Reporte de combustible:\n",
    "    Promedio total:{Promedio_total}%\n",
    "    Tanque principal:{Tanque_principal}%\n",
    "    Tanque externo: {Tanque_externo}%\n",
    "    Tanque de hidrogeno:{Tanque_hidrogeno}%\n",
    "    \"\"\""
   ]
  },
  {
   "cell_type": "markdown",
   "metadata": {},
   "source": [
    "Se llama  la funcion del reporte"
   ]
  },
  {
   "cell_type": "code",
   "execution_count": 2,
   "metadata": {},
   "outputs": [
    {
     "name": "stdout",
     "output_type": "stream",
     "text": [
      " Reporte de combustible:\n",
      "    Promedio total:58.0%\n",
      "    Tanque principal:30%\n",
      "    Tanque externo: 69%\n",
      "    Tanque de hidrogeno:75%\n",
      "    \n"
     ]
    }
   ],
   "source": [
    "print(Reporte(30, 69, 75))"
   ]
  },
  {
   "cell_type": "markdown",
   "metadata": {},
   "source": [
    "Función promedio"
   ]
  },
  {
   "cell_type": "code",
   "execution_count": 3,
   "metadata": {},
   "outputs": [
    {
     "data": {
      "text/plain": [
       "58.0"
      ]
     },
     "execution_count": 3,
     "metadata": {},
     "output_type": "execute_result"
    }
   ],
   "source": [
    "def Promedio(Valores):\n",
    "    Total=sum(Valores)\n",
    "    Datos=len(Valores)\n",
    "    return Total/Datos\n",
    "Promedio([30, 69, 75])"
   ]
  },
  {
   "cell_type": "markdown",
   "metadata": {},
   "source": [
    "Se actualiza la función"
   ]
  },
  {
   "cell_type": "code",
   "execution_count": 4,
   "metadata": {},
   "outputs": [],
   "source": [
    "def Reporte(Tanque_principal, Tanque_externo, Tanque_hidrogeno):\n",
    "    return f\"\"\" Reporte de combustible:\n",
    "    Promedio total:{Promedio([Tanque_principal, Tanque_externo, Tanque_hidrogeno])}%\n",
    "    Tanque principal:{Tanque_principal}%\n",
    "    Tanque externo: {Tanque_externo}%\n",
    "    Tanque de hidrogeno:{Tanque_hidrogeno}%\n",
    "    \"\"\""
   ]
  },
  {
   "cell_type": "markdown",
   "metadata": {},
   "source": [
    "Se llama a la función con diferentes valores"
   ]
  },
  {
   "cell_type": "code",
   "execution_count": 5,
   "metadata": {},
   "outputs": [
    {
     "name": "stdout",
     "output_type": "stream",
     "text": [
      " Reporte de combustible:\n",
      "    Promedio total:55.0%\n",
      "    Tanque principal:34%\n",
      "    Tanque externo: 44%\n",
      "    Tanque de hidrogeno:87%\n",
      "    \n"
     ]
    }
   ],
   "source": [
    "print(Reporte(34, 44, 87))"
   ]
  }
 ],
 "metadata": {
  "interpreter": {
   "hash": "9e5321b19996bc09924839314e6e115f2dd863eaabb958a8c35039d4d33d7884"
  },
  "kernelspec": {
   "display_name": "Python 3.10.2 64-bit",
   "language": "python",
   "name": "python3"
  },
  "language_info": {
   "codemirror_mode": {
    "name": "ipython",
    "version": 3
   },
   "file_extension": ".py",
   "mimetype": "text/x-python",
   "name": "python",
   "nbconvert_exporter": "python",
   "pygments_lexer": "ipython3",
   "version": "3.10.2"
  },
  "orig_nbformat": 4
 },
 "nbformat": 4,
 "nbformat_minor": 2
}
