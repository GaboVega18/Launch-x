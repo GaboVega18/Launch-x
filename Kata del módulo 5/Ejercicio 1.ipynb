{
 "cells": [
  {
   "cell_type": "markdown",
   "metadata": {},
   "source": [
    "Creación de variables"
   ]
  },
  {
   "cell_type": "code",
   "execution_count": 10,
   "metadata": {},
   "outputs": [],
   "source": [
    "Primer_planeta=149597870\n",
    "Segundo_planeta=778547200"
   ]
  },
  {
   "cell_type": "markdown",
   "metadata": {},
   "source": [
    "Calculamos distancia entre planetas"
   ]
  },
  {
   "cell_type": "code",
   "execution_count": 16,
   "metadata": {},
   "outputs": [
    {
     "name": "stdout",
     "output_type": "stream",
     "text": [
      "Distancia en km = 628949330\n",
      "Distancia en mi = 390577533.93\n"
     ]
    }
   ],
   "source": [
    "Distancia_km=Segundo_planeta-Primer_planeta\n",
    "Distancia_km2=f\"Distancia en km = {Distancia_km}\"\n",
    "print(Distancia_km2)\n",
    "Distancia_mi=Distancia_km*0.621\n",
    "Distancia_mi2=f\"Distancia en mi = {Distancia_mi}\"\n",
    "print(Distancia_mi2)"
   ]
  }
 ],
 "metadata": {
  "interpreter": {
   "hash": "9e5321b19996bc09924839314e6e115f2dd863eaabb958a8c35039d4d33d7884"
  },
  "kernelspec": {
   "display_name": "Python 3.10.2 64-bit",
   "language": "python",
   "name": "python3"
  },
  "language_info": {
   "codemirror_mode": {
    "name": "ipython",
    "version": 3
   },
   "file_extension": ".py",
   "mimetype": "text/x-python",
   "name": "python",
   "nbconvert_exporter": "python",
   "pygments_lexer": "ipython3",
   "version": "3.10.2"
  },
  "orig_nbformat": 4
 },
 "nbformat": 4,
 "nbformat_minor": 2
}
