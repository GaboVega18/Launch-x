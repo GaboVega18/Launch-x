{
 "cells": [
  {
   "cell_type": "markdown",
   "metadata": {},
   "source": [
    "Primer problema, asteroide a 49 km/s"
   ]
  },
  {
   "cell_type": "code",
   "execution_count": 9,
   "metadata": {},
   "outputs": [
    {
     "name": "stdout",
     "output_type": "stream",
     "text": [
      "¡Peligro, un ateroide se acerca gran velocidad!\n"
     ]
    }
   ],
   "source": [
    "Asteroide=49\n",
    "VelLim=25\n",
    "if Asteroide>VelLim:\n",
    "    print(\"¡Peligro, un ateroide se acerca a gran velocidad!\")\n",
    "else:\n",
    "    (\"No hay peligro de asteroide\")"
   ]
  },
  {
   "cell_type": "markdown",
   "metadata": {},
   "source": [
    "Segundo problema, asteoride a 19 km/s"
   ]
  },
  {
   "cell_type": "code",
   "execution_count": 10,
   "metadata": {},
   "outputs": [
    {
     "name": "stdout",
     "output_type": "stream",
     "text": [
      "No hay asteroide a la vista\n"
     ]
    }
   ],
   "source": [
    "Asteroide2=19\n",
    "VelLim2=20\n",
    "if Asteroide2>VelLim2:\n",
    "    print(\"¡Miren al cielo, un asteroide!\")\n",
    "elif Asteroide2 == 20:\n",
    "    print(\"¡Miren al cielo, un asteroide!\")\n",
    "else:\n",
    "    print(\"No hay asteroide a la vista\")\n"
   ]
  },
  {
   "cell_type": "markdown",
   "metadata": {},
   "source": [
    "Tercer problema"
   ]
  },
  {
   "cell_type": "code",
   "execution_count": 11,
   "metadata": {},
   "outputs": [
    {
     "name": "stdout",
     "output_type": "stream",
     "text": [
      "¡Miren al cielo, un asteroide!\n"
     ]
    }
   ],
   "source": [
    "Vel_asteroide=25\n",
    "Tam_asteroide=40\n",
    "if Vel_asteroide>25 and Tam_asteroide>25:\n",
    "    print(\"¡Peligro, un ateroide peligroso se acerca a gran velocidad!\")\n",
    "elif Vel_asteroide>=20:\n",
    "    print(\"¡Miren al cielo, un asteroide!\")\n",
    "elif Tam_asteroide<25:\n",
    "    print(\"No hay asteroide a la vista\")\n",
    "else:\n",
    "    print(\"No hay peligro de asteroide\")"
   ]
  }
 ],
 "metadata": {
  "interpreter": {
   "hash": "9e5321b19996bc09924839314e6e115f2dd863eaabb958a8c35039d4d33d7884"
  },
  "kernelspec": {
   "display_name": "Python 3.10.2 64-bit",
   "language": "python",
   "name": "python3"
  },
  "language_info": {
   "codemirror_mode": {
    "name": "ipython",
    "version": 3
   },
   "file_extension": ".py",
   "mimetype": "text/x-python",
   "name": "python",
   "nbconvert_exporter": "python",
   "pygments_lexer": "ipython3",
   "version": "3.10.2"
  },
  "orig_nbformat": 4
 },
 "nbformat": 4,
 "nbformat_minor": 2
}
